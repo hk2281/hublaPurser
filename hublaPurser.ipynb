{
  "cells": [
    {
      "cell_type": "code",
      "execution_count": 1,
      "metadata": {
        "colab": {
          "base_uri": "https://localhost:8080/"
        },
        "id": "X2Y0b7M8bo9N",
        "outputId": "7fe3d526-ef39-4670-d06d-8551831dace7"
      },
      "outputs": [
        {
          "output_type": "stream",
          "name": "stdout",
          "text": [
            "Requirement already satisfied: lxml in /usr/local/lib/python3.7/dist-packages (4.2.6)\n",
            "Requirement already satisfied: beautifulsoup4 in /usr/local/lib/python3.7/dist-packages (4.6.3)\n"
          ]
        }
      ],
      "source": [
        "!pip install lxml\n",
        "!pip install beautifulsoup4"
      ]
    },
    {
      "cell_type": "code",
      "execution_count": 2,
      "metadata": {
        "id": "sC2mIeReb40v"
      },
      "outputs": [],
      "source": [
        "from requests.models import Response\n",
        "from requests.api import get\n",
        "from termcolor import colored\n",
        "import requests\n",
        "from bs4 import BeautifulSoup\n",
        "\n",
        "url = 'https://www.google.com/search?q=site:hub.la'\n",
        "header = [{\n",
        "    'authority': 'www.google.com',\n",
        "    'method': 'GET',\n",
        "    'path': '/search?q=site:hub.la',\n",
        "    'scheme': 'https',\n",
        "    'accept': 'text/html,application/xhtml+xml,application/xml;q=0.9,image/avif,image/webp,image/apng,*/*;q=0.8,application/signed-exchange;v=b3;q=0.9',\n",
        "    'accept-language': 'ru-RU,ru;q=0.9',\n",
        "    'user-agent':'Mozilla/5.0 (Windows NT 6.1; Win64; x64) AppleWebKit/537.36 (KHTML, like Gecko) Chrome/96.0.4664.93 Safari/537.36'\n",
        "},\n",
        "{\n",
        "    'authority': 'www.google.com',\n",
        "    'method': 'GET',\n",
        "    'path': '/search?q=site:hub.la&sxsrf=AOaemvKTKXQgT_xYIWcq4OroTWrBAzPjsg:1639829222291&source=lnms&tbm=nws&sa=X&ved=2ahUKEwjKs6Xyp-30AhUhgf0HHZ3oC7kQ_AUoAnoECAEQBA&biw=1550&bih=703&dpr=1.24',\n",
        "    'scheme': 'https',\n",
        "    'cookie': '1P_JAR=2021-12-18-13; NID=511=qN3rlHTiPSdfyeiI4rOLqnEZ2rRbiVLdg7JGZ2SfcwDiF1oujCjpeJh7W2eieX_ogN-3NHjf35wipPWhNkr0kVMbKYPdLYqtIJteYPQzfEf6Ban5bUAj3BSjAjfxHrm9sf3F48A3yJfJe16l90ClorkXg-9hdm_YXZsLUVGJw04; DV=0xDGDJrlocUiMLoqspk1c5E30yHd3JcEf05C4hCF6AAAAAA',\n",
        "    'accept': 'text/html,application/xhtml+xml,application/xml;q=0.9,image/avif,image/webp,image/apng,*/*;q=0.8,application/signed-exchange;v=b3;q=0.9',\n",
        "    'user-agent': 'Mozilla/5.0 (Windows NT 6.1; Win64; x64) AppleWebKit/537.36 (KHTML, like Gecko) Chrome/96.0.4664.93 Safari/537.36'\n",
        "}]\n",
        "lincks = []\n",
        "PagesArr = []\n",
        "NewPageArr = []\n",
        "linksFromNewsPages = []\n",
        "def getAllLinksInPage(url):\n",
        "  response = requests.get(url,headers=header[0])\n",
        "  soup = BeautifulSoup(response.text, 'lxml')\n",
        "  divsWithLinks = soup.find_all('div', class_=\"yuRUbf\")\n",
        "  for x in range(len(divsWithLinks)):\n",
        "    # print(colored('[successed]','green'), 'hubla page url ==>'+divsWithLinks[x].find('a')['href'])\n",
        "    print(divsWithLinks[x].find('a')['href'])\n",
        "    lincks.append(divsWithLinks[x].find('a')['href'])\n",
        "  return soup\n",
        "\n",
        "def getAllLinksInPageWithNews(url):\n",
        "  response = requests.get(url,headers=header[1])\n",
        "  soup = BeautifulSoup(response.text, 'lxml')\n",
        "  ahref = soup.find_all('a', class_='WlydOe')\n",
        "  print(len(ahref))\n",
        "  pass\n",
        "\n",
        "def grabPageLinksBydiirect(soup):\n",
        "  urlNextPages = soup.find('a', id=\"pnnext\")\n",
        "  # print(type(urlNextPages))\n",
        "  if type(urlNextPages) != type(None):\n",
        "    st = 'https://www.google.com'+ urlNextPages['href']\n",
        "    PagesArr.append(st)\n",
        "    return st\n",
        "  else: \n",
        "    return None\n",
        "def mainAll():\n",
        "  url = 'https://www.google.com/search?q=site:hub.la'\n",
        "  p = getAllLinksInPage(url)\n",
        "\n",
        "  ur = grabPageLinksBydiirect(p)\n",
        "\n",
        "  while ur != None:\n",
        "    p = getAllLinksInPage(ur)\n",
        "    ur = grabPageLinksBydiirect(p)\n",
        "    print(\"+\")\n",
        "\n",
        "  print(lincks)\n",
        "\n",
        "def getLinksByNewsPages(url):\n",
        "  # getAllLinksInPageWithNews(url)\n",
        "  response = requests.get(url,headers=header[1])\n",
        "  soup = BeautifulSoup(response.text, 'lxml')\n",
        "  ahref = soup.find_all('a', class_='WlydOe')\n",
        "  for x in range(len(ahref)):\n",
        "    linksFromNewsPages.append(ahref[x]['href']) \n",
        "  return soup\n",
        "\n",
        "def grabPageLinksByNewsdirect(soup):\n",
        "  urlNextPages = soup.find('a', id=\"pnnext\")\n",
        "  print(soup)\n",
        "  if type(urlNextPages) != type(None):\n",
        "    st = 'https://www.google.com'+ urlNextPages['href']\n",
        "    return st\n",
        "  else: \n",
        "    return None\n",
        "\n",
        "# url = 'https://www.google.com/search?q=site:hub.la&tbm=nws&sxsrf=AOaemvIrV4uN8rWRAPz36SbzZIQFQjPrgw:1639831811847&ei=A9m9YZn2MvuK9u8P_N2qmA4&start=0&sa=N&ved=2ahUKEwjZg4vFse30AhV7hf0HHfyuCuM4HhDy0wN6BAgBEDo&biw=1550&bih=761&dpr=1.24'\n",
        "\n",
        "# p = getLinksByNewsPages(url)\n",
        "# ur = grabPageLinksByNewsdirect(p)\n",
        "\n",
        "# while ur != None:\n",
        "  \n",
        "#   p = getLinksByNewsPages(url)\n",
        "#   ur = grabPageLinksByNewsdirect(p)\n",
        "\n",
        "# mainAll()\n",
        "\n",
        "  \n",
        "\n"
      ]
    },
    {
      "cell_type": "code",
      "source": [
        "url = 'https://www.google.com/search?q=site:hub.la'\n",
        "header = [{\n",
        "    'authority': 'www.google.com',\n",
        "    'method': 'GET',\n",
        "    'path': '/search?q=site:hub.la',\n",
        "    'scheme': 'https',\n",
        "    'accept': 'text/html,application/xhtml+xml,application/xml;q=0.9,image/avif,image/webp,image/apng,*/*;q=0.8,application/signed-exchange;v=b3;q=0.9',\n",
        "    'accept-language': 'ru-RU,ru;q=0.9',\n",
        "    'user-agent':'Mozilla/5.0 (Windows NT 6.1; Win64; x64) AppleWebKit/537.36 (KHTML, like Gecko) Chrome/96.0.4664.93 Safari/537.36'\n",
        "},\n",
        "{\n",
        "    'authority': 'www.google.com',\n",
        "    'method': 'GET',\n",
        "    'path': '/search?q=site:hub.la&sxsrf=AOaemvKTKXQgT_xYIWcq4OroTWrBAzPjsg:1639829222291&source=lnms&tbm=nws&sa=X&ved=2ahUKEwjKs6Xyp-30AhUhgf0HHZ3oC7kQ_AUoAnoECAEQBA&biw=1550&bih=703&dpr=1.24',\n",
        "    'scheme': 'https',\n",
        "    'cookie': '1P_JAR=2021-12-18-13; NID=511=qN3rlHTiPSdfyeiI4rOLqnEZ2rRbiVLdg7JGZ2SfcwDiF1oujCjpeJh7W2eieX_ogN-3NHjf35wipPWhNkr0kVMbKYPdLYqtIJteYPQzfEf6Ban5bUAj3BSjAjfxHrm9sf3F48A3yJfJe16l90ClorkXg-9hdm_YXZsLUVGJw04; DV=0xDGDJrlocUiMLoqspk1c5E30yHd3JcEf05C4hCF6AAAAAA',\n",
        "    'accept': 'text/html,application/xhtml+xml,application/xml;q=0.9,image/avif,image/webp,image/apng,*/*;q=0.8,application/signed-exchange;v=b3;q=0.9',\n",
        "    'user-agent': 'Mozilla/5.0 (Windows NT 6.1; Win64; x64) AppleWebKit/537.36 (KHTML, like Gecko) Chrome/96.0.4664.93 Safari/537.36'\n",
        "}]\n",
        "lincks = []\n",
        "PagesArr = []\n",
        "# NewPageArr = []\n",
        "# linksFromNewsPages = []\n",
        "def getAllLinksInPage(url):\n",
        "  response = requests.get(url,headers=header[0])\n",
        "  soup = BeautifulSoup(response.text, 'lxml')\n",
        "  divsWithLinks = soup.find_all('div', class_=\"yuRUbf\")\n",
        "  for x in range(len(divsWithLinks)):\n",
        "    # print(colored('[successed]','green'), 'hubla page url ==>'+divsWithLinks[x].find('a')['href'])\n",
        "    print(divsWithLinks[x].find('a')['href'])\n",
        "    lincks.append(divsWithLinks[x].find('a')['href'])\n",
        "  return soup\n",
        "\n",
        "def getAllLinksInPageWithNews(url):\n",
        "  response = requests.get(url,headers=header[1])\n",
        "  soup = BeautifulSoup(response.text, 'lxml')\n",
        "  ahref = soup.find_all('a', class_='WlydOe')\n",
        "  print(len(ahref))\n",
        "  pass\n",
        "\n",
        "def grabPageLinksBydiirect(soup):\n",
        "  urlNextPages = soup.find('a', id=\"pnnext\")\n",
        "  # print(type(urlNextPages))\n",
        "  if type(urlNextPages) != type(None):\n",
        "    st = 'https://www.google.com'+ urlNextPages['href']\n",
        "    PagesArr.append(st)\n",
        "    return st\n",
        "  else: \n",
        "    return None\n",
        "def mainAll():\n",
        "  url = 'https://www.google.com/search?q=site:hub.la'\n",
        "  p = getAllLinksInPage(url)\n",
        "\n",
        "  ur = grabPageLinksBydiirect(p)\n",
        "\n",
        "  while ur != None:\n",
        "    p = getAllLinksInPage(ur)\n",
        "    ur = grabPageLinksBydiirect(p)\n",
        "    print(\"+\")\n",
        "\n",
        "  print(lincks)\n",
        "\n",
        "def getLinksByNewsPages(url):\n",
        "  # getAllLinksInPageWithNews(url)\n",
        "  response = requests.get(url,headers=header[1])\n",
        "  soup = BeautifulSoup(response.text, 'lxml')\n",
        "  ahref = soup.find_all('a', class_='WlydOe')\n",
        "  for x in range(len(ahref)):\n",
        "    linksFromNewsPages.append(ahref[x]['href']) \n",
        "  return soup\n",
        "\n",
        "def grabPageLinksByNewsdirect(soup):\n",
        "  urlNextPages = soup.find('a', id=\"pnnext\")\n",
        "  print(soup)\n",
        "  if type(urlNextPages) != type(None):\n",
        "    st = 'https://www.google.com'+ urlNextPages['href']\n",
        "    return st\n",
        "  else: \n",
        "    return None\n",
        "\n",
        "# url = 'https://www.google.com/search?q=site:hub.la&tbm=nws&sxsrf=AOaemvIrV4uN8rWRAPz36SbzZIQFQjPrgw:1639831811847&ei=A9m9YZn2MvuK9u8P_N2qmA4&start=0&sa=N&ved=2ahUKEwjZg4vFse30AhV7hf0HHfyuCuM4HhDy0wN6BAgBEDo&biw=1550&bih=761&dpr=1.24'\n",
        "\n",
        "# p = getLinksByNewsPages(url)\n",
        "# ur = grabPageLinksByNewsdirect(p)\n",
        "\n",
        "# while ur != None:\n",
        "  \n",
        "#   p = getLinksByNewsPages(url)\n",
        "#   ur = grabPageLinksByNewsdirect(p)\n",
        "\n",
        "mainAll()\n",
        "\n",
        "  "
      ],
      "metadata": {
        "id": "HLvFMdmm_VAy"
      },
      "execution_count": null,
      "outputs": []
    },
    {
      "cell_type": "code",
      "source": [
        "url = 'https://www.google.com/search?q=site:hub.la&tbm=nws&sxsrf=AOaemvKFtx48Msvtqh7yp1MOBNqxtMhipA:1639836916747&ei=9Oy9YeeLLbmD9u8Pg9aN2Ag&start=0&sa=N&ved=2ahUKEwjn1aXHxO30AhW5gf0HHQNrA4s4WhDy0wN6BAgBEDo&biw=1550&bih=761&dpr=1.24'\n",
        "\n",
        "p = getLinksByNewsPages(url)\n",
        "ur = grabPageLinksByNewsdirect(p)\n",
        "\n",
        "for x in range(29):\n",
        "  \n",
        "  p = getLinksByNewsPages(ur)\n",
        "  ur = grabPageLinksByNewsdirect(p)\n",
        "  NewPageArr.append(ur)\n",
        "  print(ur)"
      ],
      "metadata": {
        "id": "wpPexIHStEWm"
      },
      "execution_count": null,
      "outputs": []
    },
    {
      "cell_type": "code",
      "source": [
        "NewPageArr = NewPageArr[:27]\n"
      ],
      "metadata": {
        "id": "tvTS44TjtXIk"
      },
      "execution_count": 6,
      "outputs": []
    },
    {
      "cell_type": "code",
      "source": [
        "allL = lincks + linksFromNewsPages"
      ],
      "metadata": {
        "id": "ut7x39ohAg1L"
      },
      "execution_count": 11,
      "outputs": []
    },
    {
      "cell_type": "code",
      "execution_count": 12,
      "metadata": {
        "colab": {
          "base_uri": "https://localhost:8080/"
        },
        "id": "X8hyyT8GMV8Y",
        "outputId": "37b08636-0508-49bd-f8d0-1b57ada4d1a3"
      },
      "outputs": [
        {
          "output_type": "stream",
          "name": "stdout",
          "text": [
            "601\n",
            "523\n"
          ]
        }
      ],
      "source": [
        "print(len(allL))\n",
        "import numpy as np\n",
        "\n",
        "def uniq(arr):\n",
        "  z = np.array(arr)\n",
        "  return np.unique(z)\n",
        "\n",
        "\n",
        "print(len(uniq(allL)))\n"
      ]
    },
    {
      "cell_type": "code",
      "source": [
        "sortedAll = uniq(allL)"
      ],
      "metadata": {
        "id": "K8SMDb7cBFLE"
      },
      "execution_count": 13,
      "outputs": []
    },
    {
      "cell_type": "code",
      "source": [
        "sortedAll"
      ],
      "metadata": {
        "id": "csxC7RDqBJsp"
      },
      "execution_count": null,
      "outputs": []
    },
    {
      "cell_type": "code",
      "execution_count": null,
      "metadata": {
        "colab": {
          "base_uri": "https://localhost:8080/"
        },
        "id": "1YUsrAccN9m2",
        "outputId": "428aef19-a952-426a-a7b7-e4f6451a5485"
      },
      "outputs": [
        {
          "name": "stdout",
          "output_type": "stream",
          "text": [
            "\u001b[31mhello\u001b[0m \u001b[32mworld\u001b[0m\n"
          ]
        }
      ],
      "source": [
        "\n",
        "print(colored('hello', 'red'), colored('world', 'green'))"
      ]
    },
    {
      "cell_type": "code",
      "execution_count": null,
      "metadata": {
        "colab": {
          "base_uri": "https://localhost:8080/"
        },
        "id": "Jlk15QMnSLs7",
        "outputId": "47bae62c-dc2f-4b48-9a86-e0dcb5e21cf6"
      },
      "outputs": [
        {
          "data": {
            "text/plain": [
              "False"
            ]
          },
          "execution_count": 169,
          "metadata": {},
          "output_type": "execute_result"
        }
      ],
      "source": [
        "\"https://hub.la/g/553196304567-1583337667\" in lincks"
      ]
    },
    {
      "cell_type": "code",
      "source": [
        "a = ['https://hub.la/g/','https://blog.hub.la/g/','https://vk.hub.la']\n",
        "b = ['https://kd.ri','https://youtube.com','https://app.hub.la/checkout/645465464']\n",
        "n = a + b\n"
      ],
      "metadata": {
        "id": "ZJI27Ql86yY-"
      },
      "execution_count": 35,
      "outputs": []
    },
    {
      "cell_type": "code",
      "source": [
        "def cfapp(sStr):\n",
        "  return 'hub.la' in sStr\n",
        "\n",
        "def cfSimp(sStr):\n",
        "  if 'https://blog.hub.la'in sStr:\n",
        "    return False\n",
        "  elif 'https://help.hub.la' in sStr:\n",
        "    return False \n",
        "  elif 'https://artigos.chatpay.com' in sStr:\n",
        "    return False\n",
        "  else:\n",
        "    return True\n",
        "\n",
        "\n",
        "    \n",
        "\n",
        "\n",
        "retult = list(filter(cfSimp,sortedAll))\n",
        "retult"
      ],
      "metadata": {
        "id": "nn4FzC3Y7U9s"
      },
      "execution_count": null,
      "outputs": []
    },
    {
      "cell_type": "code",
      "source": [
        "res = list(filter(cfSimp,retult))\n",
        "res"
      ],
      "metadata": {
        "id": "vTajmMMOL_50"
      },
      "execution_count": null,
      "outputs": []
    },
    {
      "cell_type": "code",
      "source": [
        "\n",
        "aa = list(map(lambda x:((x,x.replace('checkout','g'))['https://app.hub.la/checkout/' in x]),retult))\n",
        "!aa"
      ],
      "metadata": {
        "id": "RYQXu_j3Hnvp"
      },
      "execution_count": null,
      "outputs": []
    },
    {
      "cell_type": "code",
      "source": [
        "!pip install xlsxwriter\n",
        "import pandas as pd\n",
        "\n",
        "\n",
        "df = pd.DataFrame(aa)\n",
        "writer = pd.ExcelWriter('links.xlsx', engine='xlsxwriter')\n",
        "df.to_excel(writer, sheet_name='welcome', index=False)\n",
        "writer.save()"
      ],
      "metadata": {
        "colab": {
          "base_uri": "https://localhost:8080/"
        },
        "id": "UhaqcQYJQpSZ",
        "outputId": "467f8d3c-78f4-45da-efd4-5fdc43169642"
      },
      "execution_count": 46,
      "outputs": [
        {
          "output_type": "stream",
          "name": "stdout",
          "text": [
            "Collecting xlsxwriter\n",
            "  Downloading XlsxWriter-3.0.2-py3-none-any.whl (149 kB)\n",
            "\u001b[?25l\r\u001b[K     |██▏                             | 10 kB 18.7 MB/s eta 0:00:01\r\u001b[K     |████▍                           | 20 kB 25.9 MB/s eta 0:00:01\r\u001b[K     |██████▋                         | 30 kB 21.5 MB/s eta 0:00:01\r\u001b[K     |████████▊                       | 40 kB 18.1 MB/s eta 0:00:01\r\u001b[K     |███████████                     | 51 kB 8.3 MB/s eta 0:00:01\r\u001b[K     |█████████████▏                  | 61 kB 9.6 MB/s eta 0:00:01\r\u001b[K     |███████████████▎                | 71 kB 9.2 MB/s eta 0:00:01\r\u001b[K     |█████████████████▌              | 81 kB 10.2 MB/s eta 0:00:01\r\u001b[K     |███████████████████▊            | 92 kB 10.7 MB/s eta 0:00:01\r\u001b[K     |█████████████████████▉          | 102 kB 7.2 MB/s eta 0:00:01\r\u001b[K     |████████████████████████        | 112 kB 7.2 MB/s eta 0:00:01\r\u001b[K     |██████████████████████████▎     | 122 kB 7.2 MB/s eta 0:00:01\r\u001b[K     |████████████████████████████▍   | 133 kB 7.2 MB/s eta 0:00:01\r\u001b[K     |██████████████████████████████▋ | 143 kB 7.2 MB/s eta 0:00:01\r\u001b[K     |████████████████████████████████| 149 kB 7.2 MB/s \n",
            "\u001b[?25hInstalling collected packages: xlsxwriter\n",
            "Successfully installed xlsxwriter-3.0.2\n"
          ]
        }
      ]
    }
  ],
  "metadata": {
    "colab": {
      "collapsed_sections": [],
      "name": "hublaPurser.ipynb",
      "provenance": [],
      "toc_visible": true
    },
    "kernelspec": {
      "display_name": "Python 3",
      "name": "python3"
    },
    "language_info": {
      "name": "python"
    }
  },
  "nbformat": 4,
  "nbformat_minor": 0
}